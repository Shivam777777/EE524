{
 "cells": [
  {
   "cell_type": "markdown",
   "metadata": {},
   "source": [
    "Q1: Print 'Hello World!'"
   ]
  },
  {
   "cell_type": "code",
   "execution_count": 6,
   "metadata": {},
   "outputs": [
    {
     "name": "stdout",
     "output_type": "stream",
     "text": [
      "Hellow World!\n"
     ]
    }
   ],
   "source": [
    "print(\"Hellow World!\")"
   ]
  },
  {
   "cell_type": "markdown",
   "metadata": {},
   "source": [
    "Q2:User input two numbers a and b. Perform the following algebraic opera-\n",
    "tions c = a + b, d = a-b, e = a*b, f = a/b and g = a%b and print their\n",
    "results."
   ]
  },
  {
   "cell_type": "code",
   "execution_count": 7,
   "metadata": {},
   "outputs": [
    {
     "name": "stdout",
     "output_type": "stream",
     "text": [
      "15 5 50 2.0 0\n"
     ]
    }
   ],
   "source": [
    "def opn(a,b):\n",
    "    c=a+b\n",
    "    d=a-b\n",
    "    e=a*b\n",
    "    f=a/b\n",
    "    g=a%b\n",
    "    print(c,d,e,f,g)\n",
    "opn(10,5)"
   ]
  },
  {
   "cell_type": "markdown",
   "metadata": {},
   "source": [
    "Q3: Find the factorial of a number 'num' and print the result."
   ]
  },
  {
   "cell_type": "code",
   "execution_count": 8,
   "metadata": {},
   "outputs": [
    {
     "data": {
      "text/plain": [
       "25852016738884976640000"
      ]
     },
     "execution_count": 8,
     "metadata": {},
     "output_type": "execute_result"
    }
   ],
   "source": [
    "def factorial(n):\n",
    "    if(n==0 or n==1):\n",
    "        return 1\n",
    "    elif(n<0):\n",
    "        return \"The factorial do not exist\"\n",
    "    else:\n",
    "        result= n*factorial(n-1)\n",
    "        return result\n",
    "    \n",
    "        \n",
    "    \n",
    "factorial(23)"
   ]
  },
  {
   "cell_type": "code",
   "execution_count": 9,
   "metadata": {},
   "outputs": [
    {
     "data": {
      "text/plain": [
       "3628800"
      ]
     },
     "execution_count": 9,
     "metadata": {},
     "output_type": "execute_result"
    }
   ],
   "source": [
    "def fact(n):\n",
    "    if(n>0):\n",
    "        return n*fact(n-1)\n",
    "    if(n==0):\n",
    "        return 1\n",
    "    if(n<0):\n",
    "        return(\"dont exist\")\n",
    "fact(10)\n"
   ]
  },
  {
   "cell_type": "markdown",
   "metadata": {},
   "source": [
    "Q4. Take a two user input A and B . Write the program to print all prome number in [a,b]"
   ]
  },
  {
   "cell_type": "code",
   "execution_count": 11,
   "metadata": {},
   "outputs": [
    {
     "data": {
      "text/plain": [
       "[2, 3, 5, 7, 11, 13, 17, 19]"
      ]
     },
     "execution_count": 11,
     "metadata": {},
     "output_type": "execute_result"
    }
   ],
   "source": [
    "list=[]\n",
    "def prime(x,y):\n",
    "    for i in range(x,y+1):\n",
    "        for j in range(2,i):\n",
    "            if (i%j==0):\n",
    "                break\n",
    "        else:\n",
    "                list.append(i)\n",
    "                \n",
    "              \n",
    "prime(2,22)\n",
    "list\n"
   ]
  },
  {
   "cell_type": "markdown",
   "metadata": {},
   "source": [
    "Q4. Finding the LCM of two number by taking two users input"
   ]
  },
  {
   "cell_type": "markdown",
   "metadata": {},
   "source": [
    "   "
   ]
  },
  {
   "cell_type": "code",
   "execution_count": 12,
   "metadata": {},
   "outputs": [
    {
     "name": "stdout",
     "output_type": "stream",
     "text": [
      "enter your numbers3 2\n",
      "[1, 3]\n",
      "[1, 2]\n",
      "[1]\n",
      "The HCF of the two numbers are 1\n",
      "The LCM of the above two numbers are 6.0\n"
     ]
    }
   ],
   "source": [
    "x,y=input(\"enter your numbers\").split()              #output of input is string type\n",
    "type(x)\n",
    "x,y\n",
    "x=int(x)\n",
    "y=int(y)\n",
    "factorX=[]\n",
    "common=[]\n",
    "factorY=[]\n",
    "\n",
    "for t in range(1,x+1):\n",
    "    if(x%t==0):\n",
    "        factorX.append(t)\n",
    "    t+=1\n",
    "for z in range(1,y+1):\n",
    "    if(y%z==0):\n",
    "        factorY.append(z)\n",
    "    z+=1\n",
    "p=factorX\n",
    "print(p)\n",
    "q=factorY\n",
    "print(q)\n",
    "def common(p,q):\n",
    "    c=[value for value in p if value in q]\n",
    "    return c\n",
    "d=common(p,q)\n",
    "print(d)\n",
    "HCF=max(d)\n",
    "print(\"The HCF of the two numbers are\",HCF)\n",
    "LCM=x*y/HCF\n",
    "print(\"The LCM of the above two numbers are\",LCM)"
   ]
  },
  {
   "cell_type": "code",
   "execution_count": 13,
   "metadata": {},
   "outputs": [
    {
     "name": "stdout",
     "output_type": "stream",
     "text": [
      "Enter the numbers: 3 2\n",
      "The LCM value is= 6\n"
     ]
    }
   ],
   "source": [
    "# we can also write the programm for LCM by using the simple loop\n",
    "x,y=input(\"Enter the numbers: \").split()\n",
    "x=int(x)\n",
    "y=int(y)\n",
    "if(x>y):\n",
    "    greater=x\n",
    "else:\n",
    "    greater=y\n",
    "while(True):\n",
    "    if(greater%x==0 and greater%y==0):\n",
    "        LCM=greater\n",
    "        break\n",
    "    greater+=1\n",
    "print(\"The LCM value is=\", LCM)\n",
    "    "
   ]
  },
  {
   "cell_type": "markdown",
   "metadata": {},
   "source": [
    "## "
   ]
  },
  {
   "cell_type": "markdown",
   "metadata": {},
   "source": [
    "6. Create a list of length n = 15. Sort the array in descending order and\n",
    "print the sorted List as well as the sorted indices. Use the bubble sort\n",
    "algorithm."
   ]
  },
  {
   "cell_type": "code",
   "execution_count": 14,
   "metadata": {},
   "outputs": [
    {
     "name": "stdout",
     "output_type": "stream",
     "text": [
      "[ 0  1  2  3  4  5  6  7  8  9 10 11 12 13 14]\n",
      "[ 5.          5.45454545  5.90909091  6.36363636  6.81818182  7.27272727\n",
      "  7.72727273  8.18181818  8.63636364  9.09090909  9.54545455 10.        ]\n",
      "[-2.07998488  0.38313986  0.69406676  0.66221901 -0.21840061 -1.53674043\n",
      "  2.65733579  0.40329265 -0.09756207 -1.29484645  0.01364391 -1.05556989\n",
      " -0.17109447  1.40977163 -0.4004477 ]\n"
     ]
    }
   ],
   "source": [
    "import numpy as np\n",
    "vect=np.arange(0,15,1)\n",
    "print(vect)\n",
    "vect1=np.linspace(5,10,12)\n",
    "print(vect1)\n",
    "rand_vec=np.random.randn(15)\n",
    "print(rand_vec)\n"
   ]
  },
  {
   "cell_type": "markdown",
   "metadata": {},
   "source": [
    "7.Repeat the previous program for sorting in ascending order. Use numpy array instead of list"
   ]
  },
  {
   "cell_type": "code",
   "execution_count": 16,
   "metadata": {},
   "outputs": [
    {
     "name": "stdout",
     "output_type": "stream",
     "text": [
      "[1, 2, 3, 4, 5, 6, 7, 8, 9, 10, 11, 12, 13, 14, 15]\n"
     ]
    }
   ],
   "source": [
    "#bubble sort\n",
    "list_bubble=[10, 6, 9, 7, 1, 2, 3, 5, 4, 8,11,13,14,15,12]\n",
    "A=list_bubble\n",
    "n=len(A)\n",
    "for j in range(0,n-1):   #To run the pass n-1 times in index\n",
    "    for i in range (0,n-1):                  #(n-1) otherwise for n the index will go out of the range\n",
    "        if (A[i]>A[i+1]):\n",
    "            A[i]=A[i]+A[i+1]                            #x=A[i]\n",
    "            A[i+1]=A[i]-A[i+1]                          #A[i]=A[i+1]\n",
    "            A[i]=A[i]-A[i+1]                            #A[i+1]=x\n",
    "            i+=1        \n",
    "    j+=1\n",
    "\n",
    "print(A)"
   ]
  },
  {
   "cell_type": "markdown",
   "metadata": {},
   "source": [
    "7. Repeat the previous program for sorting in ascending order. Use numpy\n",
    "array instead of list."
   ]
  },
  {
   "cell_type": "code",
   "execution_count": 17,
   "metadata": {},
   "outputs": [
    {
     "name": "stdout",
     "output_type": "stream",
     "text": [
      "[15, 14, 13, 12, 11, 10, 9, 8, 7, 6, 5, 4, 3, 2, 1]\n"
     ]
    }
   ],
   "source": [
    "#bubble sort\n",
    "list_bubble=[10, 6, 9, 7, 1, 2, 3, 5, 4, 8,11,13,12,15,14]\n",
    "A=list_bubble\n",
    "n=len(A)\n",
    "for j in range(0,n-1):   #To run the pass n-1 times in index\n",
    "    for i in range (0,n-1):                  #(n-1) otherwise for n index will go out of the range\n",
    "        if (A[i]<A[i+1]):\n",
    "            A[i]=A[i]+A[i+1]                            #x=A[i]\n",
    "            A[i+1]=A[i]-A[i+1]                          #A[i]=A[i+1]\n",
    "            A[i]=A[i]-A[i+1]                            #A[i+1]=x\n",
    "            i+=1        \n",
    "    j+=1\n",
    "\n",
    "print(A)"
   ]
  },
  {
   "cell_type": "markdown",
   "metadata": {},
   "source": [
    "8. Print a matrix M E Rmxn having random values in the given range [-2, 5].m and n are to be given as userinput.\n"
   ]
  },
  {
   "cell_type": "code",
   "execution_count": 18,
   "metadata": {},
   "outputs": [
    {
     "name": "stdout",
     "output_type": "stream",
     "text": [
      "Enter the value of the matrix dimension:5 7\n",
      "[[ 0 -1  3  2  1  0 -2]\n",
      " [ 4  1  3  3  1 -2  0]\n",
      " [ 1 -2  4  2  3  1  2]\n",
      " [ 2  2  2  4  2  4  3]\n",
      " [ 4  1  1  1  2  0  0]]\n"
     ]
    }
   ],
   "source": [
    "import numpy as np\n",
    "m,n=input(\"Enter the value of the matrix dimension:\").split()\n",
    "m=int(m)\n",
    "n=int(n)\n",
    "matrix_M=np.random.randint(-2,5,size=(m,n))    #this is not working with the randn and random function\n",
    "print(matrix_M)"
   ]
  },
  {
   "cell_type": "markdown",
   "metadata": {},
   "source": [
    "9. Write a program to multiply two random matricesM1\u000fRmxn, M2\u000fRnxp(Don't\n",
    "use built-in functions). Compare the result obtained with the built-in\n",
    "function."
   ]
  },
  {
   "cell_type": "markdown",
   "metadata": {},
   "source": [
    "## "
   ]
  },
  {
   "cell_type": "code",
   "execution_count": 22,
   "metadata": {},
   "outputs": [
    {
     "name": "stdout",
     "output_type": "stream",
     "text": [
      "Enter the value of the matrix dimension:5 4 6\n",
      "[[ 1.02404248 -0.33094448 -0.50150052  0.05638662]\n",
      " [ 0.36946605 -1.17834922  0.2116626  -0.72831046]\n",
      " [ 1.12482058 -0.28303898 -1.38758254 -0.2460952 ]\n",
      " [ 1.27561299  0.11358597 -0.07368235 -1.99927384]\n",
      " [ 0.11993563  0.54736201  0.23189236  0.72084003]]\n",
      "[[-1.12173475  0.10192193  1.09629129  1.73090267  0.58146506 -0.71263574]\n",
      " [ 0.32060302 -0.93784309 -0.14932541 -0.84123015  1.23070769 -1.26233413]\n",
      " [ 0.13592625 -0.44939822  0.17098765  2.25483302 -0.06802896 -0.6202937 ]\n",
      " [-0.08249371 -1.44264666  0.79871599 -0.91655446  0.30230538 -1.13068392]]\n",
      "[[-1.32762447  0.55877385  1.13135378  0.86843701  0.23931155 -0.06468459]\n",
      " [-0.7033737   2.09833722  0.03547839  2.77557268 -1.46994319  1.91637166]\n",
      " [-1.52080107  1.35869558  0.84157626 -0.71815142  0.32570552  0.69466701]\n",
      " [-1.23957125  2.94084558 -0.22796862  3.77871195  0.28213682  1.25382063]\n",
      " [ 0.01300545 -1.6452451   0.66514651 -0.39067113  0.94551943 -1.73530777]]\n",
      "[[-1.3276244655647014, 0.5587738528897548, 1.131353778522923, 0.8684370064207364, 0.2393115458736777, -0.06468459192014264], [-0.7033736955289538, 2.0983372242047627, 0.035478385426558234, 2.775572681414777, -1.469943192315606, 1.916371663557864], [-1.5208010679283204, 1.3586955812127526, 0.8415762644935767, -0.718151420580348, 0.32570552463262326, 0.6946670096520862], [-1.2395712542201047, 2.940845577290245, -0.22796861724351536, 3.7787119466837735, 0.28213681672406454, 1.2538206336951803], [0.01300544560339887, -1.6452450969176882, 0.665146514902183, -0.3906711330277275, 0.9455194333041065, -1.7353077674244428]]\n"
     ]
    }
   ],
   "source": [
    "m,n,p=input(\"Enter the value of the matrix dimension:\").split()\n",
    "m=int(m)\n",
    "n=int(n)\n",
    "p=int(p)\n",
    "Mat1=np.random.randn(m,n)\n",
    "print(Mat1)\n",
    "Mat2=np.random.randn(n,p)\n",
    "print(Mat2)                                #np.matmul()    is used when we need to do matrix array multiplication\n",
    "Matout=np.matmul(Mat1,Mat2)    #direct function for matrix multiplication #np.multiply () eement wise multiplication\n",
    "print(Matout)\n",
    "result=[[0 for i in range(p)] for j in range(m)]\n",
    "\n",
    "for i in range(m):                     #len(mat1)=row\n",
    "    for j in range(p):           #len(Mat2[0])=column\n",
    "        for k in range(n):\n",
    "            result[i][j] += Mat1[i][k] * Mat2[k][j] #result[row][col]+=Mat1[row=m][row=n]*Mat2[row=n][col=p]\n",
    "        \n",
    "        \n",
    "print(result)\n"
   ]
  },
  {
   "cell_type": "markdown",
   "metadata": {},
   "source": [
    "10. Write File operations :\n",
    "\u000f Generate a set of n= 100 random points X = xi, i = 1, . . . n, xi\u000fR10.\n",
    "\u000f Write the points to a CSV \f",
    "le (https://en.wikipedia.org/wiki/Comma-\n",
    "separatedvalues)"
   ]
  },
  {
   "cell_type": "code",
   "execution_count": 23,
   "metadata": {},
   "outputs": [
    {
     "name": "stdout",
     "output_type": "stream",
     "text": [
      "[[7 5 6 6 1 7 1 3 5 6]\n",
      " [9 7 3 7 9 3 4 8 3 3]\n",
      " [5 5 9 2 2 4 6 8 5 7]\n",
      " [9 3 4 7 3 7 2 9 8 3]\n",
      " [8 4 9 4 5 7 9 9 9 9]\n",
      " [2 2 4 4 2 2 9 1 8 4]\n",
      " [8 2 9 2 9 6 2 9 7 4]\n",
      " [7 7 9 8 3 2 1 3 3 4]\n",
      " [4 9 2 5 8 8 8 1 6 6]\n",
      " [4 9 8 8 2 8 4 5 1 6]]\n"
     ]
    }
   ],
   "source": [
    "import numpy as np\n",
    "import pandas as pd\n",
    "set=np.random.randint(1,10,size=(10,10),dtype=int)\n",
    "print(set)\n",
    "df=pd.DataFrame(set)\n",
    "df.to_csv(\"randomdata.csv\")"
   ]
  },
  {
   "cell_type": "markdown",
   "metadata": {},
   "source": [
    "11. Read File operations:\n",
    "\u000f Read the CSV \f",
    "le generated in the previous program to a matrix.\n",
    "Each column of matrix should represent a vector.\n",
    "\u000f Compute the following : C = 1\n",
    "n\n",
    "Pn\n",
    "i=1(Xi 􀀀 \u0016)(Xi 􀀀 \u0016)T where \u0016 =\n",
    "1\n",
    "n\n",
    "Pn\n",
    "i=1 Xi where i = 1,2,3 ... n. Xi = [xi1,xi2, ... xi10] is a column\n",
    "vector."
   ]
  },
  {
   "cell_type": "code",
   "execution_count": 24,
   "metadata": {},
   "outputs": [
    {
     "name": "stdout",
     "output_type": "stream",
     "text": [
      "   Unnamed: 0  0  1  2  3  4  5  6  7  8  9\n",
      "0           0  7  5  6  6  1  7  1  3  5  6\n",
      "1           1  9  7  3  7  9  3  4  8  3  3\n",
      "2           2  5  5  9  2  2  4  6  8  5  7\n",
      "3           3  9  3  4  7  3  7  2  9  8  3\n",
      "4           4  8  4  9  4  5  7  9  9  9  9\n",
      "5           5  2  2  4  4  2  2  9  1  8  4\n",
      "6           6  8  2  9  2  9  6  2  9  7  4\n",
      "7           7  7  7  9  8  3  2  1  3  3  4\n",
      "8           8  4  9  2  5  8  8  8  1  6  6\n",
      "9           9  4  9  8  8  2  8  4  5  1  6\n",
      "       Unnamed: 0          0          1          2          3          4  \\\n",
      "count    10.00000  10.000000  10.000000  10.000000  10.000000  10.000000   \n",
      "mean      4.50000   6.300000   5.300000   6.300000   5.300000   4.400000   \n",
      "std       3.02765   2.406011   2.626785   2.830391   2.263233   3.134042   \n",
      "min       0.00000   2.000000   2.000000   2.000000   2.000000   1.000000   \n",
      "25%       2.25000   4.250000   3.250000   4.000000   4.000000   2.000000   \n",
      "50%       4.50000   7.000000   5.000000   7.000000   5.500000   3.000000   \n",
      "75%       6.75000   8.000000   7.000000   9.000000   7.000000   7.250000   \n",
      "max       9.00000   9.000000   9.000000   9.000000   8.000000   9.000000   \n",
      "\n",
      "               5          6          7          8          9  \n",
      "count  10.000000  10.000000  10.000000  10.000000  10.000000  \n",
      "mean    5.400000   4.600000   5.600000   5.500000   5.200000  \n",
      "std     2.412928   3.204164   3.373096   2.592725   1.932184  \n",
      "min     2.000000   1.000000   1.000000   1.000000   3.000000  \n",
      "25%     3.250000   2.000000   3.000000   3.500000   4.000000  \n",
      "50%     6.500000   4.000000   6.500000   5.500000   5.000000  \n",
      "75%     7.000000   7.500000   8.750000   7.750000   6.000000  \n",
      "max     8.000000   9.000000   9.000000   9.000000   9.000000  \n",
      "10 11\n",
      "Unnamed: 0    4.5\n",
      "0             6.3\n",
      "1             5.3\n",
      "2             6.3\n",
      "3             5.3\n",
      "4             4.4\n",
      "5             5.4\n",
      "6             4.6\n",
      "7             5.6\n",
      "8             5.5\n",
      "9             5.2\n",
      "dtype: float64\n",
      "   Unnamed: 0    0    1    2    3    4    5    6    7    8    9\n",
      "0        -4.5  0.7 -0.3 -0.3  0.7 -3.4  1.6 -3.6 -2.6 -0.5  0.8\n",
      "1        -3.5  2.7  1.7 -3.3  1.7  4.6 -2.4 -0.6  2.4 -2.5 -2.2\n",
      "2        -2.5 -1.3 -0.3  2.7 -3.3 -2.4 -1.4  1.4  2.4 -0.5  1.8\n",
      "3        -1.5  2.7 -2.3 -2.3  1.7 -1.4  1.6 -2.6  3.4  2.5 -2.2\n",
      "4        -0.5  1.7 -1.3  2.7 -1.3  0.6  1.6  4.4  3.4  3.5  3.8\n",
      "5         0.5 -4.3 -3.3 -2.3 -1.3 -2.4 -3.4  4.4 -4.6  2.5 -1.2\n",
      "6         1.5  1.7 -3.3  2.7 -3.3  4.6  0.6 -2.6  3.4  1.5 -1.2\n",
      "7         2.5  0.7  1.7  2.7  2.7 -1.4 -3.4 -3.6 -2.6 -2.5 -1.2\n",
      "8         3.5 -2.3  3.7 -4.3 -0.3  3.6  2.6  3.4 -4.6  0.5  0.8\n",
      "9         4.5 -2.3  3.7  1.7  2.7 -2.4  2.6 -0.6 -0.6 -4.5  0.8\n",
      "   Unnamed: 0    1    2    3    4    5    6    7    8    9\n",
      "0        -4.5 -0.3 -0.3  0.7 -3.4  1.6 -3.6 -2.6 -0.5  0.8\n",
      "1        -3.5  1.7 -3.3  1.7  4.6 -2.4 -0.6  2.4 -2.5 -2.2\n",
      "2        -2.5 -0.3  2.7 -3.3 -2.4 -1.4  1.4  2.4 -0.5  1.8\n",
      "3        -1.5 -2.3 -2.3  1.7 -1.4  1.6 -2.6  3.4  2.5 -2.2\n",
      "4        -0.5 -1.3  2.7 -1.3  0.6  1.6  4.4  3.4  3.5  3.8\n",
      "5         0.5 -3.3 -2.3 -1.3 -2.4 -3.4  4.4 -4.6  2.5 -1.2\n",
      "6         1.5 -3.3  2.7 -3.3  4.6  0.6 -2.6  3.4  1.5 -1.2\n",
      "7         2.5  1.7  2.7  2.7 -1.4 -3.4 -3.6 -2.6 -2.5 -1.2\n",
      "8         3.5  3.7 -4.3 -0.3  3.6  2.6  3.4 -4.6  0.5  0.8\n",
      "9         4.5  3.7  1.7  2.7 -2.4  2.6 -0.6 -0.6 -4.5  0.8\n",
      "              0    1    2    3    4    5    6    7    8    9\n",
      "Unnamed: 0 -4.5 -3.5 -2.5 -1.5 -0.5  0.5  1.5  2.5  3.5  4.5\n",
      "1          -0.3  1.7 -0.3 -2.3 -1.3 -3.3 -3.3  1.7  3.7  3.7\n",
      "2          -0.3 -3.3  2.7 -2.3  2.7 -2.3  2.7  2.7 -4.3  1.7\n",
      "3           0.7  1.7 -3.3  1.7 -1.3 -1.3 -3.3  2.7 -0.3  2.7\n",
      "4          -3.4  4.6 -2.4 -1.4  0.6 -2.4  4.6 -1.4  3.6 -2.4\n",
      "5           1.6 -2.4 -1.4  1.6  1.6 -3.4  0.6 -3.4  2.6  2.6\n",
      "6          -3.6 -0.6  1.4 -2.6  4.4  4.4 -2.6 -3.6  3.4 -0.6\n",
      "7          -2.6  2.4  2.4  3.4  3.4 -4.6  3.4 -2.6 -4.6 -0.6\n",
      "8          -0.5 -2.5 -0.5  2.5  3.5  2.5  1.5 -2.5  0.5 -4.5\n",
      "9           0.8 -2.2  1.8 -2.2  3.8 -1.2 -1.2 -1.2  0.8  0.8\n",
      "             0   1   2   3   4   5   6   7   8   9   1   2   3   4   5   6  \\\n",
      "0          NaN NaN NaN NaN NaN NaN NaN NaN NaN NaN NaN NaN NaN NaN NaN NaN   \n",
      "1          NaN NaN NaN NaN NaN NaN NaN NaN NaN NaN NaN NaN NaN NaN NaN NaN   \n",
      "2          NaN NaN NaN NaN NaN NaN NaN NaN NaN NaN NaN NaN NaN NaN NaN NaN   \n",
      "3          NaN NaN NaN NaN NaN NaN NaN NaN NaN NaN NaN NaN NaN NaN NaN NaN   \n",
      "4          NaN NaN NaN NaN NaN NaN NaN NaN NaN NaN NaN NaN NaN NaN NaN NaN   \n",
      "5          NaN NaN NaN NaN NaN NaN NaN NaN NaN NaN NaN NaN NaN NaN NaN NaN   \n",
      "6          NaN NaN NaN NaN NaN NaN NaN NaN NaN NaN NaN NaN NaN NaN NaN NaN   \n",
      "7          NaN NaN NaN NaN NaN NaN NaN NaN NaN NaN NaN NaN NaN NaN NaN NaN   \n",
      "8          NaN NaN NaN NaN NaN NaN NaN NaN NaN NaN NaN NaN NaN NaN NaN NaN   \n",
      "9          NaN NaN NaN NaN NaN NaN NaN NaN NaN NaN NaN NaN NaN NaN NaN NaN   \n",
      "1          NaN NaN NaN NaN NaN NaN NaN NaN NaN NaN NaN NaN NaN NaN NaN NaN   \n",
      "2          NaN NaN NaN NaN NaN NaN NaN NaN NaN NaN NaN NaN NaN NaN NaN NaN   \n",
      "3          NaN NaN NaN NaN NaN NaN NaN NaN NaN NaN NaN NaN NaN NaN NaN NaN   \n",
      "4          NaN NaN NaN NaN NaN NaN NaN NaN NaN NaN NaN NaN NaN NaN NaN NaN   \n",
      "5          NaN NaN NaN NaN NaN NaN NaN NaN NaN NaN NaN NaN NaN NaN NaN NaN   \n",
      "6          NaN NaN NaN NaN NaN NaN NaN NaN NaN NaN NaN NaN NaN NaN NaN NaN   \n",
      "7          NaN NaN NaN NaN NaN NaN NaN NaN NaN NaN NaN NaN NaN NaN NaN NaN   \n",
      "8          NaN NaN NaN NaN NaN NaN NaN NaN NaN NaN NaN NaN NaN NaN NaN NaN   \n",
      "9          NaN NaN NaN NaN NaN NaN NaN NaN NaN NaN NaN NaN NaN NaN NaN NaN   \n",
      "Unnamed: 0 NaN NaN NaN NaN NaN NaN NaN NaN NaN NaN NaN NaN NaN NaN NaN NaN   \n",
      "\n",
      "             7   8   9  Unnamed: 0  \n",
      "0          NaN NaN NaN         NaN  \n",
      "1          NaN NaN NaN         NaN  \n",
      "2          NaN NaN NaN         NaN  \n",
      "3          NaN NaN NaN         NaN  \n",
      "4          NaN NaN NaN         NaN  \n",
      "5          NaN NaN NaN         NaN  \n",
      "6          NaN NaN NaN         NaN  \n",
      "7          NaN NaN NaN         NaN  \n",
      "8          NaN NaN NaN         NaN  \n",
      "9          NaN NaN NaN         NaN  \n",
      "1          NaN NaN NaN         NaN  \n",
      "2          NaN NaN NaN         NaN  \n",
      "3          NaN NaN NaN         NaN  \n",
      "4          NaN NaN NaN         NaN  \n",
      "5          NaN NaN NaN         NaN  \n",
      "6          NaN NaN NaN         NaN  \n",
      "7          NaN NaN NaN         NaN  \n",
      "8          NaN NaN NaN         NaN  \n",
      "9          NaN NaN NaN         NaN  \n",
      "Unnamed: 0 NaN NaN NaN         NaN  \n"
     ]
    }
   ],
   "source": [
    "#importing the csv with pandas only\n",
    "import pandas as pd\n",
    "df=pd.read_csv(\"randomdata.csv\")\n",
    "print(df)\n",
    "data=df.describe()\n",
    "sum=df.sum(axis=0)\n",
    "print(data)\n",
    "sum\n",
    "i,j=df.shape\n",
    "print(i,j)\n",
    "mue=sum/(j-1)\n",
    "print(mue)\n",
    "new_df=df-mue\n",
    "print(new_df)\n",
    "df_modi=new_df.drop(columns=[\"0\"])\n",
    "print(df_modi)\n",
    "new_dftr=df_modi.T   #doing transpose....it's awesome naaa\n",
    "print(new_dftr)\n",
    "\n",
    "multi=df_modi*new_dftr\n",
    "print(multi)"
   ]
  },
  {
   "cell_type": "markdown",
   "metadata": {},
   "source": [
    "12.Define a class for a complex number a + jb. Define memeber functions to do basic operations conjugate, absolute value, addition, subtraction,multiplication, division and angle. Define two complex numbers c1, c2and print the results of the following operations c1 + c2, c1c2, c1/c2, c1c2,jc1j, jc2j,6 c1, 6 c2.?"
   ]
  },
  {
   "cell_type": "code",
   "execution_count": 25,
   "metadata": {},
   "outputs": [],
   "source": [
    "class complex:\n",
    "    def comp(self):\n",
    "        self.r=int(input(\"enter a real number\"))\n",
    "        self.i=int(input(\"enter imagenary part\"))\n",
    "    def sum(self,c2):\n",
    "        self.r=self.x+c2.x\n",
    "        self.i=self.y+c2.y\n",
    "    def display(self):\n",
    "        print(\"addition =\"+str(self.r)+\"+\"+str(self.y)+\"i\")\n"
   ]
  },
  {
   "cell_type": "code",
   "execution_count": 29,
   "metadata": {},
   "outputs": [
    {
     "name": "stdout",
     "output_type": "stream",
     "text": [
      "(2-4j)\n",
      "(3-5j)\n",
      "4.47213595499958\n",
      "5.830951894845301\n",
      "(-1-1j)\n",
      "1.1071487177940904\n",
      "1.0303768265243125\n",
      "(5+9j)\n",
      "(-14+22j)\n",
      "(0.7647058823529412+0.05882352941176469j)\n",
      "(2+4j)\n",
      "(3+5j)\n"
     ]
    }
   ],
   "source": [
    "import numpy as np\n",
    "c1=2+4j\n",
    "c2=3+5j\n",
    "class Operation:\n",
    "    def basic(self):\n",
    "        con1=np.conj(c1)\n",
    "        print(con1)\n",
    "        con2=np.conj(c2)\n",
    "        print(con2)\n",
    "        abso1=abs(c1)\n",
    "        print(abso1)\n",
    "        abso2=abs(c2)\n",
    "        print(abso2)\n",
    "        sub=c1-c2\n",
    "        print(sub)\n",
    "        angle1=np.angle(c1)\n",
    "        print(angle1)\n",
    "        angle2=np.angle(c2)\n",
    "        print(angle2)\n",
    "        sum=c1+c2\n",
    "        print(sum)\n",
    "        mul=c1*c2\n",
    "        print(mul)\n",
    "        devide=c1/c2\n",
    "        print(devide)  \n",
    "com=Operation()\n",
    "Operation.basic(com)\n",
    "print(c1)\n",
    "print(c2)"
   ]
  },
  {
   "cell_type": "markdown",
   "metadata": {},
   "source": [
    "  "
   ]
  },
  {
   "cell_type": "markdown",
   "metadata": {},
   "source": [
    "13. Plot the function y = 3x + 2 with x E [-10, 10]. Use Matplotlib for the same."
   ]
  },
  {
   "cell_type": "code",
   "execution_count": 30,
   "metadata": {},
   "outputs": [
    {
     "data": {
      "text/plain": [
       "Text(0, 0.5, 'Y axis')"
      ]
     },
     "execution_count": 30,
     "metadata": {},
     "output_type": "execute_result"
    },
    {
     "data": {
      "image/png": "[encoded data removed]",
      "text/plain": [
       "<Figure size 432x288 with 1 Axes>"
      ]
     },
     "metadata": {
      "needs_background": "light"
     },
     "output_type": "display_data"
    }
   ],
   "source": [
    "import matplotlib.pyplot as plt\n",
    "import numpy as np\n",
    "x=np.linspace(1,2,10)\n",
    "\n",
    "y=2*x+1\n",
    "plt.plot(x,y)\n",
    "plt.grid()\n",
    "plt.xlabel(\"X axis\")    #we will have to use plt here coz we are making changes in matplotlib plot\n",
    "plt.ylabel(\"Y axis\")"
   ]
  },
  {
   "cell_type": "markdown",
   "metadata": {},
   "source": [
    "14. Scatter plot all the points.\n",
    "\u000f Generate a set of n = 100 points, X = xi, i = 1,2, .... n, xiER2 withinan ellipse centered at \u0016x = 5 and \u0016y = -5 with major axis as 10 andminor axis as 5.\n",
    "\u000f Plot all the points using Matplotlib"
   ]
  },
  {
   "cell_type": "code",
   "execution_count": 31,
   "metadata": {},
   "outputs": [
    {
     "name": "stdout",
     "output_type": "stream",
     "text": [
      "<class 'numpy.ndarray'>\n"
     ]
    },
    {
     "data": {
      "text/plain": [
       "<matplotlib.collections.PathCollection at 0x21d63ab5b50>"
      ]
     },
     "execution_count": 31,
     "metadata": {},
     "output_type": "execute_result"
    },
    {
     "data": {
      "image/png": "[encoded data removed]",
      "text/plain": [
       "<Figure size 432x288 with 1 Axes>"
      ]
     },
     "metadata": {
      "needs_background": "light"
     },
     "output_type": "display_data"
    }
   ],
   "source": [
    "import matplotlib.pyplot as plt\n",
    "import numpy as np\n",
    "x=np.linspace(0,10,100)\n",
    "print(type(x))\n",
    "i=(1-((x-5)*.2)**2)**.5\n",
    "y= -5+2.5*i\n",
    "z=-5-2.5*i\n",
    "plt.plot(x,y)\n",
    "plt.plot(x,z)\n",
    "plt.grid()\n",
    "\n",
    "n=np.random.uniform(-6,-4,100)\n",
    "    \n",
    "\n",
    "plt.scatter(x,n)\n"
   ]
  },
  {
   "cell_type": "code",
   "execution_count": null,
   "metadata": {},
   "outputs": [],
   "source": []
  },
  {
   "cell_type": "code",
   "execution_count": null,
   "metadata": {},
   "outputs": [],
   "source": []
  }
 ],
 "metadata": {
  "kernelspec": {
   "display_name": "Python 3",
   "language": "python",
   "name": "python3"
  },
  "language_info": {
   "codemirror_mode": {
    "name": "ipython",
    "version": 3
   },
   "file_extension": ".py",
   "mimetype": "text/x-python",
   "name": "python",
   "nbconvert_exporter": "python",
   "pygments_lexer": "ipython3",
   "version": "3.8.3"
  }
 },
 "nbformat": 4,
 "nbformat_minor": 4
}
